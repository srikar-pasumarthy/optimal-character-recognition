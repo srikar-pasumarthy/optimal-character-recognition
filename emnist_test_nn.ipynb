{
 "cells": [
  {
   "cell_type": "markdown",
   "metadata": {},
   "source": [
    "# Preprocessing\n",
    "Training dataset is the EMNIST ByClass set containing 62 classes. Each observation is a 784 feature vector plus a label. New predictions can be made by feeding in an n by 784 csv file (for n characters) and calling model.predict() on the file. The output should be an array of the predicted classes."
   ]
  },
  {
   "cell_type": "code",
   "execution_count": 409,
   "metadata": {},
   "outputs": [],
   "source": [
    "# Import libraries\n",
    "import tensorflow as tf\n",
    "import numpy as np\n",
    "import pandas as pd\n",
    "import matplotlib.pyplot as plt\n",
    "from keras.models import load_model\n",
    "\n",
    "np.set_printoptions(precision=3, suppress=True)"
   ]
  },
  {
   "cell_type": "code",
   "execution_count": 410,
   "metadata": {},
   "outputs": [],
   "source": [
    "import tensorflow_datasets as tfds"
   ]
  },
  {
   "cell_type": "code",
   "execution_count": 411,
   "metadata": {},
   "outputs": [
    {
     "name": "stdout",
     "output_type": "stream",
     "text": [
      "2.11.0\n"
     ]
    }
   ],
   "source": [
    "print(tf.__version__)"
   ]
  },
  {
   "cell_type": "code",
   "execution_count": 412,
   "metadata": {},
   "outputs": [],
   "source": [
    "ds_train = pd.read_csv('emnist-byclass-train.csv')\n",
    "ds_test = pd.read_csv('emnist-byclass-test.csv')\n",
    "\n",
    "#ds_train = pd.read_csv('emnist-letters-train.csv')\n",
    "#ds_test = pd.read_csv('emnist-letters-test.csv')"
   ]
  },
  {
   "cell_type": "code",
   "execution_count": 413,
   "metadata": {},
   "outputs": [],
   "source": [
    "# Map classes from class number to character value\n",
    "class_map = {}\n",
    "with open(\"emnist-byclass-mapping.txt\") as file:\n",
    "    for line in file:\n",
    "        (key, value) = line.split()\n",
    "        class_map[int(key)] = chr(int(value))\n",
    "num_classes: int = len(class_map)"
   ]
  },
  {
   "cell_type": "code",
   "execution_count": 414,
   "metadata": {},
   "outputs": [
    {
     "name": "stdout",
     "output_type": "stream",
     "text": [
      "Training shape: (697931, 785)\n",
      "Testing shape: (116322, 785)\n"
     ]
    }
   ],
   "source": [
    "print(\"Training shape: \" + str(ds_train.shape))\n",
    "print(\"Testing shape: \" + str(ds_test.shape))"
   ]
  },
  {
   "cell_type": "code",
   "execution_count": 415,
   "metadata": {},
   "outputs": [],
   "source": [
    "# Separate the testing and training vectors from their labels\n",
    "train_images = np.array(ds_train.iloc[:,1:])\n",
    "train_labels = np.array(ds_train.iloc[:,0])\n",
    "\n",
    "test_images = np.array(ds_test.iloc[:,1:])\n",
    "test_labels = np.array(ds_test.iloc[:,0])\n"
   ]
  },
  {
   "cell_type": "code",
   "execution_count": 416,
   "metadata": {},
   "outputs": [],
   "source": [
    "# Normalize images from [0, 255] to [0, 0]\n",
    "train_images = train_images / 255.0\n",
    "test_images = test_images / 255.0\n"
   ]
  },
  {
   "cell_type": "code",
   "execution_count": 417,
   "metadata": {},
   "outputs": [],
   "source": [
    "# Reshape the 1D vectors to 2D vectors for convolution\n",
    "num_train_images: int = train_images.shape[0]\n",
    "train_images = train_images.reshape(num_train_images, 28, 28, 1)\n",
    "num_test_images: int = test_images.shape[0]\n",
    "test_images = test_images.reshape(num_test_images, 28, 28, 1)"
   ]
  },
  {
   "cell_type": "markdown",
   "metadata": {},
   "source": [
    "# Neural Network"
   ]
  },
  {
   "cell_type": "code",
   "execution_count": 431,
   "metadata": {},
   "outputs": [],
   "source": [
    "# Neural Network structure\n",
    "model = tf.keras.Sequential([\n",
    "    tf.keras.layers.Conv2D(32, 3, input_shape=(28, 28, 1)),\n",
    "    tf.keras.layers.MaxPool2D(2, 2),\n",
    "    tf.keras.layers.Flatten(input_shape=(28, 28, 1)),\n",
    "    tf.keras.layers.Dense(512, activation='relu'),\n",
    "    tf.keras.layers.Dense(128, activation='relu'),\n",
    "    tf.keras.layers.Dropout(0.5),\n",
    "    tf.keras.layers.Dense(num_classes, activation='relu')\n",
    "])"
   ]
  },
  {
   "cell_type": "code",
   "execution_count": 432,
   "metadata": {},
   "outputs": [],
   "source": [
    "model.compile(optimizer='adam',\n",
    "    loss=tf.keras.losses.SparseCategoricalCrossentropy(from_logits=True),\n",
    "    metrics=['accuracy'])\n"
   ]
  },
  {
   "cell_type": "code",
   "execution_count": 420,
   "metadata": {},
   "outputs": [],
   "source": [
    "# Use this if you don't want to train the entire model (takes around 10 minutes per epoch)\n",
    "# This model has test accuracy of 0.8583586812019348 on EMNIST ByClass dataset\n",
    "\n",
    "#model = tf.keras.models.load_model('./trained_model')"
   ]
  },
  {
   "cell_type": "code",
   "execution_count": 433,
   "metadata": {},
   "outputs": [
    {
     "name": "stdout",
     "output_type": "stream",
     "text": [
      "Epoch 1/10\n",
      "1091/1091 [==============================] - 122s 109ms/step - loss: 0.9314 - accuracy: 0.7442 - val_loss: 0.5134 - val_accuracy: 0.8334\n",
      "Epoch 2/10\n",
      "1091/1091 [==============================] - 109s 100ms/step - loss: 0.5570 - accuracy: 0.8222 - val_loss: 0.4518 - val_accuracy: 0.8462\n",
      "Epoch 3/10\n",
      "1091/1091 [==============================] - 108s 99ms/step - loss: 0.4929 - accuracy: 0.8371 - val_loss: 0.4324 - val_accuracy: 0.8517\n",
      "Epoch 4/10\n",
      "1091/1091 [==============================] - 103s 94ms/step - loss: 0.4630 - accuracy: 0.8439 - val_loss: 0.4278 - val_accuracy: 0.8526\n",
      "Epoch 5/10\n",
      "1091/1091 [==============================] - 106s 97ms/step - loss: 0.4415 - accuracy: 0.8494 - val_loss: 0.4168 - val_accuracy: 0.8565\n",
      "Epoch 6/10\n",
      "1091/1091 [==============================] - 108s 99ms/step - loss: 0.4245 - accuracy: 0.8537 - val_loss: 0.4171 - val_accuracy: 0.8570\n",
      "Epoch 7/10\n",
      "1091/1091 [==============================] - 102s 94ms/step - loss: 0.4100 - accuracy: 0.8566 - val_loss: 0.4174 - val_accuracy: 0.8575\n",
      "Epoch 8/10\n",
      "1091/1091 [==============================] - 115s 105ms/step - loss: 0.3997 - accuracy: 0.8591 - val_loss: 0.4130 - val_accuracy: 0.8588\n",
      "Epoch 9/10\n",
      "1091/1091 [==============================] - 122s 111ms/step - loss: 0.3899 - accuracy: 0.8619 - val_loss: 0.4127 - val_accuracy: 0.8593\n",
      "Epoch 10/10\n",
      "1091/1091 [==============================] - 105s 96ms/step - loss: 0.3798 - accuracy: 0.8642 - val_loss: 0.4146 - val_accuracy: 0.8594\n"
     ]
    },
    {
     "data": {
      "text/plain": [
       "<keras.callbacks.History at 0x7f94c4192e80>"
      ]
     },
     "execution_count": 433,
     "metadata": {},
     "output_type": "execute_result"
    }
   ],
   "source": [
    "# Train the model\n",
    "model.fit(x=train_images, y=train_labels, epochs=10, batch_size=512, verbose=1, validation_split=0.2)"
   ]
  },
  {
   "cell_type": "code",
   "execution_count": 434,
   "metadata": {},
   "outputs": [
    {
     "name": "stdout",
     "output_type": "stream",
     "text": [
      "3636/3636 - 14s - loss: 0.4113 - accuracy: 0.8584 - 14s/epoch - 4ms/step\n",
      "\n",
      "Test Accuracy:  0.8583586812019348\n"
     ]
    }
   ],
   "source": [
    "test_loss, test_acc = model.evaluate(x=test_images, y=test_labels, verbose=2)\n",
    "print('\\nTest Accuracy: ', test_acc)"
   ]
  },
  {
   "cell_type": "code",
   "execution_count": 435,
   "metadata": {},
   "outputs": [],
   "source": [
    "probability_model = tf.keras.Sequential([model, tf.keras.layers.Softmax()])"
   ]
  },
  {
   "cell_type": "code",
   "execution_count": 436,
   "metadata": {},
   "outputs": [
    {
     "name": "stdout",
     "output_type": "stream",
     "text": [
      "3636/3636 [==============================] - 15s 4ms/step\n"
     ]
    }
   ],
   "source": [
    "# Currently just making predictions with test_images.\n",
    "# The final product would feed in a normalized csv of input images instead.\n",
    "predictions = probability_model.predict(test_images)\n"
   ]
  },
  {
   "cell_type": "code",
   "execution_count": 437,
   "metadata": {},
   "outputs": [
    {
     "name": "stderr",
     "output_type": "stream",
     "text": [
      "WARNING:absl:Found untraced functions such as _jit_compiled_convolution_op, _update_step_xla while saving (showing 2 of 2). These functions will not be directly callable after loading.\n"
     ]
    },
    {
     "name": "stdout",
     "output_type": "stream",
     "text": [
      "INFO:tensorflow:Assets written to: trained_model/assets\n"
     ]
    },
    {
     "name": "stderr",
     "output_type": "stream",
     "text": [
      "INFO:tensorflow:Assets written to: trained_model/assets\n"
     ]
    }
   ],
   "source": [
    "model.save(filepath='trained_model')"
   ]
  },
  {
   "cell_type": "code",
   "execution_count": 442,
   "metadata": {},
   "outputs": [
    {
     "data": {
      "image/png": "[encoded data removed]",
      "text/plain": [
       "<Figure size 640x480 with 1 Axes>"
      ]
     },
     "metadata": {},
     "output_type": "display_data"
    }
   ],
   "source": [
    "# Test space to see an image and the predicted class\n",
    "sample: int = 2\n",
    "x = test_images[sample]\n",
    "plt.imshow(x[:,:,0].T, interpolation='nearest')\n",
    "plt.show()\n"
   ]
  },
  {
   "cell_type": "code",
   "execution_count": 443,
   "metadata": {},
   "outputs": [
    {
     "name": "stdout",
     "output_type": "stream",
     "text": [
      "Predicted: 3\n",
      "Actual: 3\n",
      "i : P : A\n",
      "---------\n",
      "0 : a : a\n",
      "1 : 0 : 0\n",
      "2 : 3 : 3\n",
      "3 : X : X\n",
      "4 : U : U\n",
      "5 : O : O\n",
      "6 : e : e\n",
      "7 : 5 : 5\n",
      "8 : 8 : 8\n",
      "9 : 2 : 2\n",
      "10 : 4 : 4\n",
      "11 : 2 : 2\n",
      "12 : 1 : l\n",
      "13 : 2 : 2\n",
      "14 : 3 : 3\n",
      "15 : 7 : 7\n",
      "16 : W : W\n",
      "17 : 7 : 7\n",
      "18 : 5 : 5\n",
      "19 : 3 : 3\n",
      "20 : Y : y\n",
      "21 : 1 : I\n",
      "22 : k : k\n",
      "23 : 1 : I\n",
      "24 : a : a\n",
      "25 : X : x\n",
      "26 : C : C\n",
      "27 : b : b\n",
      "28 : 7 : 7\n",
      "29 : r : r\n",
      "30 : 7 : 7\n",
      "31 : F : F\n",
      "32 : 1 : 1\n",
      "33 : 9 : 9\n",
      "34 : C : c\n",
      "35 : h : h\n",
      "36 : i : i\n",
      "37 : 8 : 8\n",
      "38 : 5 : 5\n",
      "39 : e : e\n",
      "40 : 7 : 7\n",
      "41 : h : h\n",
      "42 : J : J\n",
      "43 : 7 : 7\n",
      "44 : T : t\n",
      "45 : 0 : O\n",
      "46 : 0 : O\n",
      "47 : U : U\n",
      "48 : 6 : 6\n",
      "49 : 8 : 8\n",
      "50 : 4 : 4\n",
      "51 : l : l\n",
      "52 : 5 : 5\n",
      "53 : 9 : 9\n",
      "54 : t : t\n",
      "55 : w : w\n",
      "56 : l : 1\n",
      "57 : 8 : 8\n",
      "58 : F : f\n",
      "59 : K : K\n",
      "60 : 7 : T\n",
      "61 : 0 : 0\n",
      "62 : S : S\n",
      "63 : t : t\n",
      "64 : t : t\n",
      "65 : 8 : 8\n",
      "66 : h : h\n",
      "67 : 8 : 8\n",
      "68 : S : S\n",
      "69 : O : 0\n",
      "70 : 0 : 0\n",
      "71 : 2 : 2\n",
      "72 : 7 : 7\n",
      "73 : V : V\n",
      "74 : 8 : 8\n",
      "75 : 9 : g\n",
      "76 : 0 : 0\n",
      "77 : X : X\n",
      "78 : e : e\n",
      "79 : w : W\n",
      "80 : 4 : 4\n",
      "81 : 8 : 8\n",
      "82 : 2 : 2\n",
      "83 : 1 : 1\n",
      "84 : 6 : 6\n",
      "85 : d : d\n",
      "86 : 9 : 9\n",
      "87 : 5 : 5\n",
      "88 : 3 : 3\n",
      "89 : P : P\n",
      "90 : f : f\n",
      "91 : 5 : 5\n",
      "92 : h : h\n",
      "93 : S : S\n",
      "94 : q : 8\n",
      "95 : O : 0\n",
      "96 : 2 : 2\n",
      "97 : w : w\n",
      "98 : 6 : 6\n",
      "99 : 0 : 0\n"
     ]
    }
   ],
   "source": [
    "print(\"Predicted: \" + str(class_map[np.argmax(predictions[sample])]))\n",
    "print(\"Actual: \" + str(class_map[test_labels[sample]]))\n",
    "\n",
    "# Show some samples of predicted class and actual class\n",
    "print(\"i : P : A\")\n",
    "print(\"---------\")\n",
    "for i in range(100):\n",
    "    print(str(i) + \" : \" + str(class_map[np.argmax(predictions[i])]) + \" : \" + str(class_map[test_labels[i]]))"
   ]
  }
 ],
 "metadata": {
  "kernelspec": {
   "display_name": "Python 3.9.12 ('base')",
   "language": "python",
   "name": "python3"
  },
  "language_info": {
   "codemirror_mode": {
    "name": "ipython",
    "version": 3
   },
   "file_extension": ".py",
   "mimetype": "text/x-python",
   "name": "python",
   "nbconvert_exporter": "python",
   "pygments_lexer": "ipython3",
   "version": "3.9.12"
  },
  "orig_nbformat": 4,
  "vscode": {
   "interpreter": {
    "hash": "f0c5f31dd2b59b9051abbbc4a81d3935c5008b7ae2cf271c91b90993ceb3332b"
   }
  }
 },
 "nbformat": 4,
 "nbformat_minor": 2
}
